{
 "cells": [
  {
   "cell_type": "code",
   "execution_count": 3,
   "outputs": [
    {
     "name": "stdout",
     "output_type": "stream",
     "text": [
      "hello koorung\n"
     ]
    }
   ],
   "source": [
    "// Kotlin NoteBook :: 파이썬의 jupyter notebook과 유사하게 코틀린으로 REPL을 실현\n",
    "// 상단메뉴의 \"Restart Kernel\" :: 재빌드와 비슷한 기능\n",
    "println(\"hello koorung\")"
   ],
   "metadata": {
    "collapsed": false,
    "ExecuteTime": {
     "end_time": "2023-08-14T17:08:04.263242Z",
     "start_time": "2023-08-14T17:08:04.210673Z"
    }
   }
  },
  {
   "cell_type": "code",
   "execution_count": 4,
   "outputs": [
    {
     "name": "stdout",
     "output_type": "stream",
     "text": [
      "코틀린 확장함수 추가 테스트\n"
     ]
    }
   ],
   "source": [
    "// ctrl + return : 셀 실행\n",
    "// command + return : 개행\n",
    "// shift + return : 셀 실행 + 하단에 셀 추가\n",
    "\n",
    "infix fun String.addString(added: String) = this + \" \" + added\n",
    "//println(\"코틀린 확장함수\".kotlinReplTest(\"추가 테스트\"))\n",
    "println(\"코틀린 확장함수\" addString \"추가 테스트\")"
   ],
   "metadata": {
    "collapsed": false,
    "ExecuteTime": {
     "end_time": "2023-08-14T17:08:04.347270Z",
     "start_time": "2023-08-14T17:08:04.264065Z"
    }
   }
  }
 ],
 "metadata": {
  "kernelspec": {
   "display_name": "Kotlin",
   "language": "kotlin",
   "name": "kotlin"
  },
  "language_info": {
   "name": "kotlin",
   "version": "1.8.20",
   "mimetype": "text/x-kotlin",
   "file_extension": ".kt",
   "pygments_lexer": "kotlin",
   "codemirror_mode": "text/x-kotlin",
   "nbconvert_exporter": ""
  }
 },
 "nbformat": 4,
 "nbformat_minor": 0
}
